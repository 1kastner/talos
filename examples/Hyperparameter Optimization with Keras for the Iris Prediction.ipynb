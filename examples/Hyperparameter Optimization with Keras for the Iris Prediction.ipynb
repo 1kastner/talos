{
 "cells": [
  {
   "cell_type": "markdown",
   "metadata": {},
   "source": [
    "<img src='https://raw.githubusercontent.com/autonomio/hyperio/master/logo.png'>"
   ]
  },
  {
   "cell_type": "code",
   "execution_count": 1,
   "metadata": {},
   "outputs": [],
   "source": [
    "import sys\n",
    "sys.path.insert(0, '/Users/mikko/Documents/GitHub/hyperio')"
   ]
  },
  {
   "cell_type": "code",
   "execution_count": 31,
   "metadata": {},
   "outputs": [],
   "source": [
    "import hyperio as hy\n",
    "import pandas as pd\n",
    "\n",
    "%matplotlib inline"
   ]
  },
  {
   "cell_type": "markdown",
   "metadata": {},
   "source": [
    "### 1. Data Preparation"
   ]
  },
  {
   "cell_type": "markdown",
   "metadata": {},
   "source": [
    "For this experiment, we're going to use the famous Iris dataset. "
   ]
  },
  {
   "cell_type": "code",
   "execution_count": 3,
   "metadata": {},
   "outputs": [],
   "source": [
    "# for converting the Name to categorical, we'll use Keras\n",
    "\n",
    "from keras.utils import to_categorical\n",
    "\n",
    "def iris():\n",
    "\n",
    "    '''\n",
    "    Returns (x, y)\n",
    "\n",
    "    '''\n",
    "\n",
    "    df = pd.read_csv('iris.csv')\n",
    "    df['Name'] = df['Name'].factorize()[0]\n",
    "    df = df.sample(len(df))\n",
    "    y = to_categorical(df['Name'])\n",
    "    x = df.iloc[:,:-1].values\n",
    "\n",
    "    return x, y\n",
    "\n",
    "x, y = iris()"
   ]
  },
  {
   "cell_type": "markdown",
   "metadata": {},
   "source": [
    "### 2. Model Preparation \n",
    "Hyperio works with any Keras model, without changing the structure of the model in anyway, or without introducing any new syntax. The below example shows clearly how this works. First we have to import two helper functions from Hyperio, one for early stopping callout, and the other for using normalized learning rate values. Because we might want to work on trying out several optimizers in a single scan, without normalization, inputting of the values would become cumbersome."
   ]
  },
  {
   "cell_type": "code",
   "execution_count": 4,
   "metadata": {},
   "outputs": [],
   "source": [
    "from hyperio import lr_normalizer, early_stopper"
   ]
  },
  {
   "cell_type": "markdown",
   "metadata": {},
   "source": [
    "Note that the only difference in the model below is how instead of using a label or value to define a given model parameter, we do it using a dictionary label. Also for optimizer we are using a learning rate parameter, which involves the use of two dictionary labels. Finally, we're using a callback with a preset value 'strict'."
   ]
  },
  {
   "cell_type": "code",
   "execution_count": 5,
   "metadata": {},
   "outputs": [],
   "source": [
    "from keras.models import Sequential\n",
    "from keras.layers import Dropout, Dense\n",
    "\n",
    "def iris_model(x_train, y_train, x_val, y_val, params):\n",
    "    \n",
    "    model = Sequential()                            \n",
    "    model.add(Dense(params['first_neuron'],\n",
    "                    input_dim=x_train.shape[1],\n",
    "                    activation='relu'))\n",
    "    \n",
    "    model.add(Dropout(params['dropout']))\n",
    "    model.add(Dense(y_train.shape[1],\n",
    "                    activation=params['last_activation']))\n",
    "\n",
    "    model.compile(optimizer=params['optimizer'](lr=lr_normalizer(params['lr'], params['optimizer'])),\n",
    "                  loss=params['loss'],\n",
    "                  metrics=['acc'])\n",
    "\n",
    "    out = model.fit(x_train, y_train,\n",
    "                    batch_size=params['batch_size'],\n",
    "                    epochs=params['epochs'],\n",
    "                    verbose=0,\n",
    "                    validation_data=[x_val, y_val],\n",
    "                    callbacks=early_stopper(params['epochs'], mode='strict'))\n",
    "    \n",
    "    return out"
   ]
  },
  {
   "cell_type": "markdown",
   "metadata": {},
   "source": [
    "### 3. Setting the Parameter Space Boundaries\n",
    "In the last and final step, we're going to create the dictionary, which will then be passed on to hyperio together with the model above. Here we have three different ways to input values:\n",
    "\n",
    "- as stepped ranges (min, max, steps)\n",
    "- as multiple values [in a list]\n",
    "- as a single value [in a list]\n",
    "\n",
    "For values we don't want to use, it's ok to set it as None.\n",
    "\n",
    "NOTE: at this point you have to import from Keras the optimizer, activations, and losses you want to scan for."
   ]
  },
  {
   "cell_type": "code",
   "execution_count": 6,
   "metadata": {},
   "outputs": [],
   "source": [
    "from keras.optimizers import Adam, Nadam\n",
    "from keras.activations import softmax\n",
    "from keras.losses import categorical_crossentropy, logcosh\n",
    "\n",
    "p = {'lr': (2, 10, 30),\n",
    "     'first_neuron':[4, 8, 16, 32, 64, 128],\n",
    "     'batch_size': [2, 3, 4],\n",
    "     'epochs': [500],\n",
    "     'dropout': (0, 0.40, 10),\n",
    "     'optimizer': [Adam, Nadam],\n",
    "     'loss': [categorical_crossentropy, logcosh],\n",
    "     'last_activation': [softmax],\n",
    "     'weight_regulizer':[None],\n",
    "     'emb_output_dims': [None]}"
   ]
  },
  {
   "cell_type": "markdown",
   "metadata": {},
   "source": [
    "### 4. Running the Model\n",
    "Now we are ready to run the model based on the parameters and the layer configuration above. The exact same process would apply with any other model, just make sure to pass the model function name in the Hyperio() command as in the below example. To get started quickly, we're going to invoke the 'grid_downsample' parameter to 1/100 of the entire permutations."
   ]
  },
  {
   "cell_type": "code",
   "execution_count": 8,
   "metadata": {},
   "outputs": [
    {
     "name": "stdout",
     "output_type": "stream",
     "text": [
      "57 scans will take roughly 57 seconds\n",
      "Scan Finished!\n"
     ]
    }
   ],
   "source": [
    "h = hy.Hyperio(x, y, params=p, dataset_name='iris', experiment_no='1', model=iris_model, grid_downsample=.01)"
   ]
  },
  {
   "cell_type": "markdown",
   "metadata": {},
   "source": [
    "### 5. Accessing the hyperio object"
   ]
  },
  {
   "cell_type": "code",
   "execution_count": 9,
   "metadata": {},
   "outputs": [
    {
     "data": {
      "text/plain": [
       "5760"
      ]
     },
     "execution_count": 9,
     "metadata": {},
     "output_type": "execute_result"
    }
   ],
   "source": [
    "# number of combinations with the selection\n",
    "h.combinations"
   ]
  },
  {
   "cell_type": "code",
   "execution_count": 10,
   "metadata": {},
   "outputs": [
    {
     "data": {
      "text/html": [
       "<div>\n",
       "<style scoped>\n",
       "    .dataframe tbody tr th:only-of-type {\n",
       "        vertical-align: middle;\n",
       "    }\n",
       "\n",
       "    .dataframe tbody tr th {\n",
       "        vertical-align: top;\n",
       "    }\n",
       "\n",
       "    .dataframe thead th {\n",
       "        text-align: right;\n",
       "    }\n",
       "</style>\n",
       "<table border=\"1\" class=\"dataframe\">\n",
       "  <thead>\n",
       "    <tr style=\"text-align: right;\">\n",
       "      <th></th>\n",
       "      <th>train_peak</th>\n",
       "      <th>val_peak</th>\n",
       "      <th>train_acc</th>\n",
       "      <th>val_acc</th>\n",
       "      <th>train_loss</th>\n",
       "      <th>val_loss</th>\n",
       "      <th>train_score</th>\n",
       "      <th>val_score</th>\n",
       "      <th>batch_size</th>\n",
       "      <th>epochs</th>\n",
       "      <th>round_epochs</th>\n",
       "      <th>dropout</th>\n",
       "      <th>normalized_lr</th>\n",
       "      <th>first_neuron</th>\n",
       "      <th>loss</th>\n",
       "      <th>optimizer</th>\n",
       "      <th>last_activation</th>\n",
       "      <th>embed_dims</th>\n",
       "      <th>weight_regul</th>\n",
       "    </tr>\n",
       "  </thead>\n",
       "  <tbody>\n",
       "    <tr>\n",
       "      <th>0</th>\n",
       "      <td>4</td>\n",
       "      <td>6</td>\n",
       "      <td>0.961905</td>\n",
       "      <td>0.955556</td>\n",
       "      <td>0.013299</td>\n",
       "      <td>0.016764</td>\n",
       "      <td>0.948606</td>\n",
       "      <td>0.938791</td>\n",
       "      <td>2</td>\n",
       "      <td>500</td>\n",
       "      <td>9</td>\n",
       "      <td>0.12</td>\n",
       "      <td>7</td>\n",
       "      <td>128</td>\n",
       "      <td>&lt;function logcosh at 0x11e2be730&gt;</td>\n",
       "      <td>&lt;class 'keras.optimizers.Adam'&gt;</td>\n",
       "      <td>&lt;function softmax at 0x11e2debf8&gt;</td>\n",
       "      <td>None</td>\n",
       "      <td>None</td>\n",
       "    </tr>\n",
       "    <tr>\n",
       "      <th>1</th>\n",
       "      <td>16</td>\n",
       "      <td>14</td>\n",
       "      <td>0.885714</td>\n",
       "      <td>0.933333</td>\n",
       "      <td>0.274503</td>\n",
       "      <td>0.254995</td>\n",
       "      <td>0.611211</td>\n",
       "      <td>0.678338</td>\n",
       "      <td>4</td>\n",
       "      <td>500</td>\n",
       "      <td>17</td>\n",
       "      <td>0.16</td>\n",
       "      <td>9</td>\n",
       "      <td>8</td>\n",
       "      <td>&lt;function categorical_crossentropy at 0x11e2be...</td>\n",
       "      <td>&lt;class 'keras.optimizers.Adam'&gt;</td>\n",
       "      <td>&lt;function softmax at 0x11e2debf8&gt;</td>\n",
       "      <td>None</td>\n",
       "      <td>None</td>\n",
       "    </tr>\n",
       "    <tr>\n",
       "      <th>2</th>\n",
       "      <td>19</td>\n",
       "      <td>17</td>\n",
       "      <td>0.961905</td>\n",
       "      <td>0.977778</td>\n",
       "      <td>0.169008</td>\n",
       "      <td>0.137809</td>\n",
       "      <td>0.792897</td>\n",
       "      <td>0.839969</td>\n",
       "      <td>2</td>\n",
       "      <td>500</td>\n",
       "      <td>20</td>\n",
       "      <td>0.12</td>\n",
       "      <td>6</td>\n",
       "      <td>8</td>\n",
       "      <td>&lt;function categorical_crossentropy at 0x11e2be...</td>\n",
       "      <td>&lt;class 'keras.optimizers.Nadam'&gt;</td>\n",
       "      <td>&lt;function softmax at 0x11e2debf8&gt;</td>\n",
       "      <td>None</td>\n",
       "      <td>None</td>\n",
       "    </tr>\n",
       "  </tbody>\n",
       "</table>\n",
       "</div>"
      ],
      "text/plain": [
       "   train_peak  val_peak  train_acc   val_acc  train_loss  val_loss  \\\n",
       "0           4         6   0.961905  0.955556    0.013299  0.016764   \n",
       "1          16        14   0.885714  0.933333    0.274503  0.254995   \n",
       "2          19        17   0.961905  0.977778    0.169008  0.137809   \n",
       "\n",
       "   train_score  val_score  batch_size  epochs  round_epochs  dropout  \\\n",
       "0     0.948606   0.938791           2     500             9     0.12   \n",
       "1     0.611211   0.678338           4     500            17     0.16   \n",
       "2     0.792897   0.839969           2     500            20     0.12   \n",
       "\n",
       "   normalized_lr  first_neuron  \\\n",
       "0              7           128   \n",
       "1              9             8   \n",
       "2              6             8   \n",
       "\n",
       "                                                loss  \\\n",
       "0                  <function logcosh at 0x11e2be730>   \n",
       "1  <function categorical_crossentropy at 0x11e2be...   \n",
       "2  <function categorical_crossentropy at 0x11e2be...   \n",
       "\n",
       "                          optimizer                    last_activation  \\\n",
       "0   <class 'keras.optimizers.Adam'>  <function softmax at 0x11e2debf8>   \n",
       "1   <class 'keras.optimizers.Adam'>  <function softmax at 0x11e2debf8>   \n",
       "2  <class 'keras.optimizers.Nadam'>  <function softmax at 0x11e2debf8>   \n",
       "\n",
       "  embed_dims weight_regul  \n",
       "0       None         None  \n",
       "1       None         None  \n",
       "2       None         None  "
      ]
     },
     "execution_count": 10,
     "metadata": {},
     "output_type": "execute_result"
    }
   ],
   "source": [
    "# the results dataframe\n",
    "h.result.head(3)"
   ]
  },
  {
   "cell_type": "markdown",
   "metadata": {},
   "source": [
    "Basically everything related with the experiment are stored in the object, so have a look around. But for now, let's move on. The other main functionality has to do with interpreting the results. For that we have separate command."
   ]
  },
  {
   "cell_type": "markdown",
   "metadata": {},
   "source": [
    "### 6. Analyzing the results\n",
    "Because the analysis represents a different stage in the iterative process of hyperparameter optimization, it's separated to a different command. Actually there are just two commands in the Hyperio namespace 'Hyperio' which is for the setting up of the experiment and running it, and 'Reporting' which is for analyzing.\n",
    "\n",
    "Let's start by loading a previous result with more observations, it's also for the Iris dataset."
   ]
  },
  {
   "cell_type": "code",
   "execution_count": 3,
   "metadata": {},
   "outputs": [
    {
     "name": "stdout",
     "output_type": "stream",
     "text": [
      "\n",
      "Model with the best val_score\n",
      "------------------------------\n",
      "The  highest val_score is 99.80%, which was achieved after 11 epochs using logcosh (loss), Adam (optimizer), and softmax (activation). The batch size was 2 with a dropout of 0 and a normalized learning rate of 8.00 and 64 first layer neurons.  \n",
      "        \n",
      "\n",
      "Model with the best train_score\n",
      "------------------------------\n",
      "The  highest val_score is 97.60%, which was achieved after 29 epochs using logcosh (loss), Adam (optimizer), and softmax (activation). The batch size was 2 with a dropout of 0 and a normalized learning rate of 3.00 and 16 first layer neurons.  \n",
      "        \n"
     ]
    },
    {
     "data": {
      "text/html": [
       "<h3>highest</h3>"
      ],
      "text/plain": [
       "<IPython.core.display.HTML object>"
      ]
     },
     "metadata": {},
     "output_type": "display_data"
    },
    {
     "data": {
      "text/html": [
       "<div>\n",
       "<style scoped>\n",
       "    .dataframe tbody tr th:only-of-type {\n",
       "        vertical-align: middle;\n",
       "    }\n",
       "\n",
       "    .dataframe tbody tr th {\n",
       "        vertical-align: top;\n",
       "    }\n",
       "\n",
       "    .dataframe thead th {\n",
       "        text-align: right;\n",
       "    }\n",
       "</style>\n",
       "<table border=\"1\" class=\"dataframe\">\n",
       "  <thead>\n",
       "    <tr style=\"text-align: right;\">\n",
       "      <th></th>\n",
       "      <th>first_neuron</th>\n",
       "      <th>batch_size</th>\n",
       "      <th>round_epochs</th>\n",
       "      <th>normalized_lr</th>\n",
       "      <th>optimizer</th>\n",
       "      <th>last_activation</th>\n",
       "      <th>loss</th>\n",
       "    </tr>\n",
       "    <tr>\n",
       "      <th>val_score</th>\n",
       "      <th></th>\n",
       "      <th></th>\n",
       "      <th></th>\n",
       "      <th></th>\n",
       "      <th></th>\n",
       "      <th></th>\n",
       "      <th></th>\n",
       "    </tr>\n",
       "  </thead>\n",
       "  <tbody>\n",
       "    <tr>\n",
       "      <th>0.998</th>\n",
       "      <td>64</td>\n",
       "      <td>3</td>\n",
       "      <td>10</td>\n",
       "      <td>8</td>\n",
       "      <td>Nadam</td>\n",
       "      <td>softmax</td>\n",
       "      <td>logcosh</td>\n",
       "    </tr>\n",
       "    <tr>\n",
       "      <th>0.998</th>\n",
       "      <td>128</td>\n",
       "      <td>3</td>\n",
       "      <td>19</td>\n",
       "      <td>5</td>\n",
       "      <td>Adam</td>\n",
       "      <td>softmax</td>\n",
       "      <td>logcosh</td>\n",
       "    </tr>\n",
       "    <tr>\n",
       "      <th>0.998</th>\n",
       "      <td>64</td>\n",
       "      <td>2</td>\n",
       "      <td>13</td>\n",
       "      <td>6</td>\n",
       "      <td>Nadam</td>\n",
       "      <td>softmax</td>\n",
       "      <td>logcosh</td>\n",
       "    </tr>\n",
       "    <tr>\n",
       "      <th>0.998</th>\n",
       "      <td>64</td>\n",
       "      <td>2</td>\n",
       "      <td>14</td>\n",
       "      <td>8</td>\n",
       "      <td>Adam</td>\n",
       "      <td>softmax</td>\n",
       "      <td>logcosh</td>\n",
       "    </tr>\n",
       "    <tr>\n",
       "      <th>0.998</th>\n",
       "      <td>16</td>\n",
       "      <td>2</td>\n",
       "      <td>17</td>\n",
       "      <td>8</td>\n",
       "      <td>Nadam</td>\n",
       "      <td>softmax</td>\n",
       "      <td>logcosh</td>\n",
       "    </tr>\n",
       "    <tr>\n",
       "      <th>0.997</th>\n",
       "      <td>16</td>\n",
       "      <td>4</td>\n",
       "      <td>17</td>\n",
       "      <td>7</td>\n",
       "      <td>Nadam</td>\n",
       "      <td>softmax</td>\n",
       "      <td>logcosh</td>\n",
       "    </tr>\n",
       "    <tr>\n",
       "      <th>0.997</th>\n",
       "      <td>64</td>\n",
       "      <td>2</td>\n",
       "      <td>22</td>\n",
       "      <td>5</td>\n",
       "      <td>Adam</td>\n",
       "      <td>softmax</td>\n",
       "      <td>logcosh</td>\n",
       "    </tr>\n",
       "    <tr>\n",
       "      <th>0.997</th>\n",
       "      <td>32</td>\n",
       "      <td>3</td>\n",
       "      <td>20</td>\n",
       "      <td>7</td>\n",
       "      <td>Nadam</td>\n",
       "      <td>softmax</td>\n",
       "      <td>logcosh</td>\n",
       "    </tr>\n",
       "    <tr>\n",
       "      <th>0.997</th>\n",
       "      <td>128</td>\n",
       "      <td>2</td>\n",
       "      <td>11</td>\n",
       "      <td>4</td>\n",
       "      <td>Nadam</td>\n",
       "      <td>softmax</td>\n",
       "      <td>logcosh</td>\n",
       "    </tr>\n",
       "    <tr>\n",
       "      <th>0.997</th>\n",
       "      <td>64</td>\n",
       "      <td>3</td>\n",
       "      <td>11</td>\n",
       "      <td>9</td>\n",
       "      <td>Nadam</td>\n",
       "      <td>softmax</td>\n",
       "      <td>logcosh</td>\n",
       "    </tr>\n",
       "  </tbody>\n",
       "</table>\n",
       "</div>"
      ],
      "text/plain": [
       "           first_neuron  batch_size  round_epochs  normalized_lr optimizer  \\\n",
       "val_score                                                                    \n",
       "0.998                64           3            10              8     Nadam   \n",
       "0.998               128           3            19              5      Adam   \n",
       "0.998                64           2            13              6     Nadam   \n",
       "0.998                64           2            14              8      Adam   \n",
       "0.998                16           2            17              8     Nadam   \n",
       "0.997                16           4            17              7     Nadam   \n",
       "0.997                64           2            22              5      Adam   \n",
       "0.997                32           3            20              7     Nadam   \n",
       "0.997               128           2            11              4     Nadam   \n",
       "0.997                64           3            11              9     Nadam   \n",
       "\n",
       "          last_activation     loss  \n",
       "val_score                           \n",
       "0.998             softmax  logcosh  \n",
       "0.998             softmax  logcosh  \n",
       "0.998             softmax  logcosh  \n",
       "0.998             softmax  logcosh  \n",
       "0.998             softmax  logcosh  \n",
       "0.997             softmax  logcosh  \n",
       "0.997             softmax  logcosh  \n",
       "0.997             softmax  logcosh  \n",
       "0.997             softmax  logcosh  \n",
       "0.997             softmax  logcosh  "
      ]
     },
     "metadata": {},
     "output_type": "display_data"
    },
    {
     "data": {
      "text/html": [
       "<h3>lowest</h3>"
      ],
      "text/plain": [
       "<IPython.core.display.HTML object>"
      ]
     },
     "metadata": {},
     "output_type": "display_data"
    },
    {
     "data": {
      "text/html": [
       "<div>\n",
       "<style scoped>\n",
       "    .dataframe tbody tr th:only-of-type {\n",
       "        vertical-align: middle;\n",
       "    }\n",
       "\n",
       "    .dataframe tbody tr th {\n",
       "        vertical-align: top;\n",
       "    }\n",
       "\n",
       "    .dataframe thead th {\n",
       "        text-align: right;\n",
       "    }\n",
       "</style>\n",
       "<table border=\"1\" class=\"dataframe\">\n",
       "  <thead>\n",
       "    <tr style=\"text-align: right;\">\n",
       "      <th></th>\n",
       "      <th>first_neuron</th>\n",
       "      <th>batch_size</th>\n",
       "      <th>round_epochs</th>\n",
       "      <th>normalized_lr</th>\n",
       "      <th>optimizer</th>\n",
       "      <th>last_activation</th>\n",
       "      <th>loss</th>\n",
       "    </tr>\n",
       "    <tr>\n",
       "      <th>val_score</th>\n",
       "      <th></th>\n",
       "      <th></th>\n",
       "      <th></th>\n",
       "      <th></th>\n",
       "      <th></th>\n",
       "      <th></th>\n",
       "      <th></th>\n",
       "    </tr>\n",
       "  </thead>\n",
       "  <tbody>\n",
       "    <tr>\n",
       "      <th>-1.115</th>\n",
       "      <td>128</td>\n",
       "      <td>4</td>\n",
       "      <td>12</td>\n",
       "      <td>6</td>\n",
       "      <td>Nadam</td>\n",
       "      <td>softmax</td>\n",
       "      <td>categorical_crossentropy</td>\n",
       "    </tr>\n",
       "    <tr>\n",
       "      <th>-1.114</th>\n",
       "      <td>128</td>\n",
       "      <td>4</td>\n",
       "      <td>12</td>\n",
       "      <td>4</td>\n",
       "      <td>Nadam</td>\n",
       "      <td>softmax</td>\n",
       "      <td>categorical_crossentropy</td>\n",
       "    </tr>\n",
       "    <tr>\n",
       "      <th>-0.926</th>\n",
       "      <td>128</td>\n",
       "      <td>2</td>\n",
       "      <td>5</td>\n",
       "      <td>7</td>\n",
       "      <td>Nadam</td>\n",
       "      <td>softmax</td>\n",
       "      <td>categorical_crossentropy</td>\n",
       "    </tr>\n",
       "    <tr>\n",
       "      <th>-0.858</th>\n",
       "      <td>128</td>\n",
       "      <td>4</td>\n",
       "      <td>8</td>\n",
       "      <td>9</td>\n",
       "      <td>Nadam</td>\n",
       "      <td>softmax</td>\n",
       "      <td>categorical_crossentropy</td>\n",
       "    </tr>\n",
       "    <tr>\n",
       "      <th>-0.838</th>\n",
       "      <td>8</td>\n",
       "      <td>4</td>\n",
       "      <td>5</td>\n",
       "      <td>5</td>\n",
       "      <td>Nadam</td>\n",
       "      <td>softmax</td>\n",
       "      <td>categorical_crossentropy</td>\n",
       "    </tr>\n",
       "    <tr>\n",
       "      <th>-0.836</th>\n",
       "      <td>4</td>\n",
       "      <td>3</td>\n",
       "      <td>8</td>\n",
       "      <td>3</td>\n",
       "      <td>Nadam</td>\n",
       "      <td>softmax</td>\n",
       "      <td>categorical_crossentropy</td>\n",
       "    </tr>\n",
       "    <tr>\n",
       "      <th>-0.821</th>\n",
       "      <td>4</td>\n",
       "      <td>2</td>\n",
       "      <td>19</td>\n",
       "      <td>3</td>\n",
       "      <td>Adam</td>\n",
       "      <td>softmax</td>\n",
       "      <td>categorical_crossentropy</td>\n",
       "    </tr>\n",
       "    <tr>\n",
       "      <th>-0.768</th>\n",
       "      <td>4</td>\n",
       "      <td>2</td>\n",
       "      <td>7</td>\n",
       "      <td>8</td>\n",
       "      <td>Nadam</td>\n",
       "      <td>softmax</td>\n",
       "      <td>categorical_crossentropy</td>\n",
       "    </tr>\n",
       "    <tr>\n",
       "      <th>-0.768</th>\n",
       "      <td>4</td>\n",
       "      <td>2</td>\n",
       "      <td>16</td>\n",
       "      <td>5</td>\n",
       "      <td>Adam</td>\n",
       "      <td>softmax</td>\n",
       "      <td>categorical_crossentropy</td>\n",
       "    </tr>\n",
       "    <tr>\n",
       "      <th>-0.767</th>\n",
       "      <td>4</td>\n",
       "      <td>3</td>\n",
       "      <td>6</td>\n",
       "      <td>7</td>\n",
       "      <td>Nadam</td>\n",
       "      <td>softmax</td>\n",
       "      <td>categorical_crossentropy</td>\n",
       "    </tr>\n",
       "  </tbody>\n",
       "</table>\n",
       "</div>"
      ],
      "text/plain": [
       "           first_neuron  batch_size  round_epochs  normalized_lr optimizer  \\\n",
       "val_score                                                                    \n",
       "-1.115              128           4            12              6     Nadam   \n",
       "-1.114              128           4            12              4     Nadam   \n",
       "-0.926              128           2             5              7     Nadam   \n",
       "-0.858              128           4             8              9     Nadam   \n",
       "-0.838                8           4             5              5     Nadam   \n",
       "-0.836                4           3             8              3     Nadam   \n",
       "-0.821                4           2            19              3      Adam   \n",
       "-0.768                4           2             7              8     Nadam   \n",
       "-0.768                4           2            16              5      Adam   \n",
       "-0.767                4           3             6              7     Nadam   \n",
       "\n",
       "          last_activation                      loss  \n",
       "val_score                                            \n",
       "-1.115            softmax  categorical_crossentropy  \n",
       "-1.114            softmax  categorical_crossentropy  \n",
       "-0.926            softmax  categorical_crossentropy  \n",
       "-0.858            softmax  categorical_crossentropy  \n",
       "-0.838            softmax  categorical_crossentropy  \n",
       "-0.836            softmax  categorical_crossentropy  \n",
       "-0.821            softmax  categorical_crossentropy  \n",
       "-0.768            softmax  categorical_crossentropy  \n",
       "-0.768            softmax  categorical_crossentropy  \n",
       "-0.767            softmax  categorical_crossentropy  "
      ]
     },
     "metadata": {},
     "output_type": "display_data"
    },
    {
     "name": "stdout",
     "output_type": "stream",
     "text": [
      "\n",
      " NOTE: you have more options in the Reporting object.\n",
      "\n"
     ]
    }
   ],
   "source": [
    "r = hy.Reporting('iris_e.csv')"
   ]
  },
  {
   "cell_type": "markdown",
   "metadata": {},
   "source": [
    "In addition to the default report, we have several options."
   ]
  },
  {
   "cell_type": "code",
   "execution_count": 5,
   "metadata": {},
   "outputs": [
    {
     "data": {
      "text/plain": [
       "{'batch_size': (2, 4),\n",
       " 'epochs': (2, 500),\n",
       " 'dropout': (0.0, 0.36),\n",
       " 'normalized_lr': (2, 9),\n",
       " 'embed_dims': ('None', 'None'),\n",
       " 'weight_regul': ('None', 'None'),\n",
       " 'loss': ['logcosh', 'categorical_crossentropy'],\n",
       " 'optimizer': ['Nadam', 'Adam'],\n",
       " 'last_activation': ['softmax']}"
      ]
     },
     "execution_count": 5,
     "metadata": {},
     "output_type": "execute_result"
    }
   ],
   "source": [
    "# gives the dictionary for top result params\n",
    "r.top_params"
   ]
  },
  {
   "cell_type": "code",
   "execution_count": 4,
   "metadata": {},
   "outputs": [
    {
     "data": {
      "text/plain": [
       "{'batch_size': (2, 4),\n",
       " 'epochs': (2, 500),\n",
       " 'dropout': (0.0, 0.36),\n",
       " 'normalized_lr': (2, 9),\n",
       " 'embed_dims': ('None', 'None'),\n",
       " 'weight_regul': ('None', 'None'),\n",
       " 'loss': ['logcosh', 'categorical_crossentropy'],\n",
       " 'optimizer': ['Nadam', 'Adam'],\n",
       " 'last_activation': ['softmax']}"
      ]
     },
     "execution_count": 4,
     "metadata": {},
     "output_type": "execute_result"
    }
   ],
   "source": [
    "# gives the dictionary for bottom result params\n",
    "r.bottom_params"
   ]
  },
  {
   "cell_type": "code",
   "execution_count": 6,
   "metadata": {},
   "outputs": [
    {
     "data": {
      "text/html": [
       "<div>\n",
       "<style scoped>\n",
       "    .dataframe tbody tr th:only-of-type {\n",
       "        vertical-align: middle;\n",
       "    }\n",
       "\n",
       "    .dataframe tbody tr th {\n",
       "        vertical-align: top;\n",
       "    }\n",
       "\n",
       "    .dataframe thead th {\n",
       "        text-align: right;\n",
       "    }\n",
       "</style>\n",
       "<table border=\"1\" class=\"dataframe\">\n",
       "  <thead>\n",
       "    <tr style=\"text-align: right;\">\n",
       "      <th></th>\n",
       "      <th>train_peak</th>\n",
       "      <th>val_peak</th>\n",
       "      <th>train_acc</th>\n",
       "      <th>val_acc</th>\n",
       "      <th>train_loss</th>\n",
       "      <th>val_loss</th>\n",
       "      <th>train_score</th>\n",
       "      <th>val_score</th>\n",
       "      <th>batch_size</th>\n",
       "      <th>epochs</th>\n",
       "      <th>round_epochs</th>\n",
       "      <th>dropout</th>\n",
       "      <th>normalized_lr</th>\n",
       "      <th>first_neuron</th>\n",
       "      <th>loss</th>\n",
       "      <th>optimizer</th>\n",
       "      <th>last_activation</th>\n",
       "      <th>embed_dims</th>\n",
       "      <th>weight_regul</th>\n",
       "    </tr>\n",
       "  </thead>\n",
       "  <tbody>\n",
       "    <tr>\n",
       "      <th>0</th>\n",
       "      <td>17</td>\n",
       "      <td>17</td>\n",
       "      <td>0.933</td>\n",
       "      <td>1.000</td>\n",
       "      <td>0.218</td>\n",
       "      <td>0.106</td>\n",
       "      <td>0.715</td>\n",
       "      <td>0.894</td>\n",
       "      <td>2</td>\n",
       "      <td>500</td>\n",
       "      <td>20</td>\n",
       "      <td>0.32</td>\n",
       "      <td>6</td>\n",
       "      <td>32</td>\n",
       "      <td>categorical_crossentropy</td>\n",
       "      <td>Adam</td>\n",
       "      <td>softmax</td>\n",
       "      <td>None</td>\n",
       "      <td>None</td>\n",
       "    </tr>\n",
       "    <tr>\n",
       "      <th>1</th>\n",
       "      <td>35</td>\n",
       "      <td>35</td>\n",
       "      <td>0.952</td>\n",
       "      <td>1.000</td>\n",
       "      <td>0.243</td>\n",
       "      <td>0.139</td>\n",
       "      <td>0.709</td>\n",
       "      <td>0.861</td>\n",
       "      <td>3</td>\n",
       "      <td>500</td>\n",
       "      <td>38</td>\n",
       "      <td>0.16</td>\n",
       "      <td>5</td>\n",
       "      <td>8</td>\n",
       "      <td>categorical_crossentropy</td>\n",
       "      <td>Adam</td>\n",
       "      <td>softmax</td>\n",
       "      <td>None</td>\n",
       "      <td>None</td>\n",
       "    </tr>\n",
       "    <tr>\n",
       "      <th>2</th>\n",
       "      <td>4</td>\n",
       "      <td>4</td>\n",
       "      <td>0.924</td>\n",
       "      <td>0.978</td>\n",
       "      <td>0.026</td>\n",
       "      <td>0.017</td>\n",
       "      <td>0.897</td>\n",
       "      <td>0.961</td>\n",
       "      <td>3</td>\n",
       "      <td>500</td>\n",
       "      <td>7</td>\n",
       "      <td>0.04</td>\n",
       "      <td>7</td>\n",
       "      <td>32</td>\n",
       "      <td>logcosh</td>\n",
       "      <td>Nadam</td>\n",
       "      <td>softmax</td>\n",
       "      <td>None</td>\n",
       "      <td>None</td>\n",
       "    </tr>\n",
       "  </tbody>\n",
       "</table>\n",
       "</div>"
      ],
      "text/plain": [
       "   train_peak  val_peak  train_acc  val_acc  train_loss  val_loss  \\\n",
       "0          17        17      0.933    1.000       0.218     0.106   \n",
       "1          35        35      0.952    1.000       0.243     0.139   \n",
       "2           4         4      0.924    0.978       0.026     0.017   \n",
       "\n",
       "   train_score  val_score  batch_size  epochs  round_epochs  dropout  \\\n",
       "0        0.715      0.894           2     500            20     0.32   \n",
       "1        0.709      0.861           3     500            38     0.16   \n",
       "2        0.897      0.961           3     500             7     0.04   \n",
       "\n",
       "   normalized_lr  first_neuron                      loss optimizer  \\\n",
       "0              6            32  categorical_crossentropy      Adam   \n",
       "1              5             8  categorical_crossentropy      Adam   \n",
       "2              7            32                   logcosh     Nadam   \n",
       "\n",
       "  last_activation embed_dims weight_regul  \n",
       "0         softmax       None         None  \n",
       "1         softmax       None         None  \n",
       "2         softmax       None         None  "
      ]
     },
     "execution_count": 6,
     "metadata": {},
     "output_type": "execute_result"
    }
   ],
   "source": [
    "# access the dataframe\n",
    "r.data.head(3)"
   ]
  },
  {
   "cell_type": "markdown",
   "metadata": {},
   "source": [
    "In addition, we have several useful plotting options."
   ]
  },
  {
   "cell_type": "code",
   "execution_count": 9,
   "metadata": {},
   "outputs": [
    {
     "data": {
      "image/png": "[encoded data removed]",
      "text/plain": [
       "<Figure size 720x475.2 with 1 Axes>"
      ]
     },
     "metadata": {},
     "output_type": "display_data"
    }
   ],
   "source": [
    "r.plots.hist(r.data, 'val_score')"
   ]
  },
  {
   "cell_type": "markdown",
   "metadata": {},
   "source": [
    "There are in total more than 20 plots with completely unified, production quality look. Each plot has a more or less unified parameter space, which focus on the aesthetic aspect."
   ]
  },
  {
   "cell_type": "code",
   "execution_count": 10,
   "metadata": {},
   "outputs": [
    {
     "data": {
      "image/png": "[encoded data removed]",
      "text/plain": [
       "<Figure size 720x475.2 with 1 Axes>"
      ]
     },
     "metadata": {},
     "output_type": "display_data"
    }
   ],
   "source": [
    "r.plots.regs(r.data, 'val_score', 'train_score')"
   ]
  },
  {
   "cell_type": "markdown",
   "metadata": {},
   "source": [
    "It's very easy to add titles and other visual attributes to your plots."
   ]
  },
  {
   "cell_type": "code",
   "execution_count": 24,
   "metadata": {},
   "outputs": [
    {
     "data": {
      "image/png": "[encoded data removed]",
      "text/plain": [
       "<Figure size 720x475.2 with 2 Axes>"
      ]
     },
     "metadata": {},
     "output_type": "display_data"
    }
   ],
   "source": [
    "r.plots.kde(r.data, 'train_score', 'val_score',\n",
    "            title='Kernel Density Estimation',\n",
    "            sub_title='comparing train and validation scores',\n",
    "            x_label='density',\n",
    "            y_label='density',\n",
    "            palette='default')"
   ]
  },
  {
   "cell_type": "markdown",
   "metadata": {},
   "source": [
    "There are several options that are particularly useful for analyzing hyperparamater scanning results."
   ]
  },
  {
   "cell_type": "code",
   "execution_count": 27,
   "metadata": {},
   "outputs": [
    {
     "data": {
      "image/png": "[encoded data removed]",
      "text/plain": [
       "<Figure size 1246.22x576 with 6 Axes>"
      ]
     },
     "metadata": {},
     "output_type": "display_data"
    }
   ],
   "source": [
    "r.plots.bargrid(r.data, x='loss',y='val_score', hue='optimizer', col='first_neuron', col_wrap=4)"
   ]
  },
  {
   "cell_type": "markdown",
   "metadata": {},
   "source": [
    "### 7. Accessing your results later \n",
    "Based on the inputs you had provided in the Hyperio() run 'dataset_name' and 'experiment_no' a file will be created in the local folder. In this case you would access it by:"
   ]
  },
  {
   "cell_type": "code",
   "execution_count": null,
   "metadata": {},
   "outputs": [],
   "source": [
    "hy.Reporting('iris_1.csv')"
   ]
  },
  {
   "cell_type": "markdown",
   "metadata": {},
   "source": [
    "In addition, a master log file is created, which by default is called hyperio.log, where the results of every round, for every dataset and experiment is saved. This way you have a full record of every scan you run complete with Hyperio. "
   ]
  },
  {
   "cell_type": "code",
   "execution_count": 30,
   "metadata": {},
   "outputs": [
    {
     "data": {
      "text/html": [
       "<div>\n",
       "<style scoped>\n",
       "    .dataframe tbody tr th:only-of-type {\n",
       "        vertical-align: middle;\n",
       "    }\n",
       "\n",
       "    .dataframe tbody tr th {\n",
       "        vertical-align: top;\n",
       "    }\n",
       "\n",
       "    .dataframe thead th {\n",
       "        text-align: right;\n",
       "    }\n",
       "</style>\n",
       "<table border=\"1\" class=\"dataframe\">\n",
       "  <thead>\n",
       "    <tr style=\"text-align: right;\">\n",
       "      <th></th>\n",
       "      <th>0</th>\n",
       "      <th>1</th>\n",
       "      <th>2</th>\n",
       "      <th>3</th>\n",
       "      <th>4</th>\n",
       "      <th>5</th>\n",
       "      <th>6</th>\n",
       "      <th>7</th>\n",
       "      <th>8</th>\n",
       "      <th>9</th>\n",
       "      <th>10</th>\n",
       "      <th>11</th>\n",
       "      <th>12</th>\n",
       "      <th>13</th>\n",
       "      <th>14</th>\n",
       "      <th>15</th>\n",
       "      <th>16</th>\n",
       "    </tr>\n",
       "  </thead>\n",
       "  <tbody>\n",
       "    <tr>\n",
       "      <th>0</th>\n",
       "      <td>5</td>\n",
       "      <td>64</td>\n",
       "      <td>2</td>\n",
       "      <td>2</td>\n",
       "      <td>0.04</td>\n",
       "      <td>'Nadam'</td>\n",
       "      <td>'categorical_crossentropy'</td>\n",
       "      <td>'softmax'</td>\n",
       "      <td>'None'</td>\n",
       "      <td>'None'</td>\n",
       "      <td>0.436</td>\n",
       "      <td>2</td>\n",
       "      <td>category</td>\n",
       "      <td>3</td>\n",
       "      <td>onehot</td>\n",
       "      <td>0.3</td>\n",
       "      <td>iris</td>\n",
       "    </tr>\n",
       "    <tr>\n",
       "      <th>1</th>\n",
       "      <td>2</td>\n",
       "      <td>32</td>\n",
       "      <td>2</td>\n",
       "      <td>2</td>\n",
       "      <td>0.24</td>\n",
       "      <td>'Adam'</td>\n",
       "      <td>'categorical_crossentropy'</td>\n",
       "      <td>'softmax'</td>\n",
       "      <td>'None'</td>\n",
       "      <td>'None'</td>\n",
       "      <td>-0.100</td>\n",
       "      <td>2</td>\n",
       "      <td>category</td>\n",
       "      <td>3</td>\n",
       "      <td>onehot</td>\n",
       "      <td>0.3</td>\n",
       "      <td>iris</td>\n",
       "    </tr>\n",
       "    <tr>\n",
       "      <th>2</th>\n",
       "      <td>8</td>\n",
       "      <td>4</td>\n",
       "      <td>4</td>\n",
       "      <td>2</td>\n",
       "      <td>0.32</td>\n",
       "      <td>'Nadam'</td>\n",
       "      <td>'logcosh'</td>\n",
       "      <td>'softmax'</td>\n",
       "      <td>'None'</td>\n",
       "      <td>'None'</td>\n",
       "      <td>0.403</td>\n",
       "      <td>2</td>\n",
       "      <td>category</td>\n",
       "      <td>3</td>\n",
       "      <td>onehot</td>\n",
       "      <td>0.3</td>\n",
       "      <td>iris</td>\n",
       "    </tr>\n",
       "    <tr>\n",
       "      <th>3</th>\n",
       "      <td>6</td>\n",
       "      <td>128</td>\n",
       "      <td>2</td>\n",
       "      <td>2</td>\n",
       "      <td>0.24</td>\n",
       "      <td>'Adam'</td>\n",
       "      <td>'logcosh'</td>\n",
       "      <td>'softmax'</td>\n",
       "      <td>'None'</td>\n",
       "      <td>'None'</td>\n",
       "      <td>0.425</td>\n",
       "      <td>2</td>\n",
       "      <td>category</td>\n",
       "      <td>3</td>\n",
       "      <td>onehot</td>\n",
       "      <td>0.3</td>\n",
       "      <td>iris</td>\n",
       "    </tr>\n",
       "    <tr>\n",
       "      <th>4</th>\n",
       "      <td>5</td>\n",
       "      <td>4</td>\n",
       "      <td>2</td>\n",
       "      <td>2</td>\n",
       "      <td>0.20</td>\n",
       "      <td>'Nadam'</td>\n",
       "      <td>'logcosh'</td>\n",
       "      <td>'softmax'</td>\n",
       "      <td>'None'</td>\n",
       "      <td>'None'</td>\n",
       "      <td>0.245</td>\n",
       "      <td>2</td>\n",
       "      <td>category</td>\n",
       "      <td>3</td>\n",
       "      <td>onehot</td>\n",
       "      <td>0.3</td>\n",
       "      <td>iris</td>\n",
       "    </tr>\n",
       "  </tbody>\n",
       "</table>\n",
       "</div>"
      ],
      "text/plain": [
       "   0    1   2   3     4        5                           6          7   \\\n",
       "0   5   64   2   2  0.04  'Nadam'  'categorical_crossentropy'  'softmax'   \n",
       "1   2   32   2   2  0.24   'Adam'  'categorical_crossentropy'  'softmax'   \n",
       "2   8    4   4   2  0.32  'Nadam'                   'logcosh'  'softmax'   \n",
       "3   6  128   2   2  0.24   'Adam'                   'logcosh'  'softmax'   \n",
       "4   5    4   2   2  0.20  'Nadam'                   'logcosh'  'softmax'   \n",
       "\n",
       "       8       9      10  11        12  13      14   15    16  \n",
       "0  'None'  'None'  0.436   2  category   3  onehot  0.3  iris  \n",
       "1  'None'  'None' -0.100   2  category   3  onehot  0.3  iris  \n",
       "2  'None'  'None'  0.403   2  category   3  onehot  0.3  iris  \n",
       "3  'None'  'None'  0.425   2  category   3  onehot  0.3  iris  \n",
       "4  'None'  'None'  0.245   2  category   3  onehot  0.3  iris  "
      ]
     },
     "execution_count": 30,
     "metadata": {},
     "output_type": "execute_result"
    }
   ],
   "source": [
    "pd.read_csv('hyperio.log', header=None).head(5)"
   ]
  },
  {
   "cell_type": "markdown",
   "metadata": {},
   "source": [
    "It includes information about each parameter used in the round, and the type of dataset in question."
   ]
  },
  {
   "cell_type": "markdown",
   "metadata": {},
   "source": [
    "\n",
    "<img align=left src='https://img00.deviantart.net/920c/i/2014/137/a/2/pinkie_pie_thats_all_folks_by_dan232323-d7ipnd4.jpg' width=400>"
   ]
  },
  {
   "cell_type": "markdown",
   "metadata": {},
   "source": [
    "Back to the repository page >> http://github.com/autonomio/hyperio"
   ]
  },
  {
   "cell_type": "code",
   "execution_count": null,
   "metadata": {},
   "outputs": [],
   "source": []
  }
 ],
 "metadata": {
  "kernelspec": {
   "display_name": "Python 3",
   "language": "python",
   "name": "python3"
  },
  "language_info": {
   "codemirror_mode": {
    "name": "ipython",
    "version": 3
   },
   "file_extension": ".py",
   "mimetype": "text/x-python",
   "name": "python",
   "nbconvert_exporter": "python",
   "pygments_lexer": "ipython3",
   "version": "3.6.5"
  }
 },
 "nbformat": 4,
 "nbformat_minor": 2
}
